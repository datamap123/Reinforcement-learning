{
  "nbformat": 4,
  "nbformat_minor": 0,
  "metadata": {
    "colab": {
      "name": "03 a Deep Q-learning, Cartpole.ipynb",
      "provenance": [],
      "collapsed_sections": []
    },
    "kernelspec": {
      "name": "python3",
      "display_name": "Python 3"
    }
  },
  "cells": [
    {
      "cell_type": "markdown",
      "metadata": {
        "id": "nnvFG3MivjCo"
      },
      "source": [
        "# Deep Q-learning on CartPole (PyTorch)"
      ]
    },
    {
      "cell_type": "markdown",
      "metadata": {
        "id": "Ry96pGhMvjgG"
      },
      "source": [
        "In this notebook Deep Q-learning is applied for CartPole environment from OpenAI gym, with PyTorch. Deep Q-learning (DQN) method is :\r\n",
        "\r\n",
        "*   value-based method\r\n",
        "*   off-policy method\r\n",
        "\r\n",
        "The code is based on the book: Deep Reinforcement Learning Hands-On, 2nd edition, from Packt publishing, by Maxim Lapan. The original code is taken from the GitHub pages of the book, and perhaps modified in some places."
      ]
    },
    {
      "cell_type": "markdown",
      "metadata": {
        "id": "8Pmh_chswguU"
      },
      "source": [
        "## 1. Import packages"
      ]
    },
    {
      "cell_type": "code",
      "metadata": {
        "colab": {
          "base_uri": "https://localhost:8080/"
        },
        "id": "03oGzCSAw_am",
        "outputId": "cdcb39af-bb54-4cc1-ec08-30b1550a210f"
      },
      "source": [
        "# Install PyTorch Agent Net (PTAN) library.\r\n",
        "# That contains modules beneficial for RL, eg Agent, ActionSelector, ExperienceSource etc.\r\n",
        "pip install ptan==0.7"
      ],
      "execution_count": 4,
      "outputs": [
        {
          "output_type": "stream",
          "text": [
            "Collecting ptan==0.7\n",
            "  Downloading https://files.pythonhosted.org/packages/d9/0b/c93ddb49b9f291062d1d3f63efd3d7e6614749214d15c8d8af2211d1b220/ptan-0.7.tar.gz\n",
            "Requirement already satisfied: torch==1.7.0 in /usr/local/lib/python3.6/dist-packages (from ptan==0.7) (1.7.0+cu101)\n",
            "Requirement already satisfied: gym in /usr/local/lib/python3.6/dist-packages (from ptan==0.7) (0.17.3)\n",
            "Requirement already satisfied: atari-py in /usr/local/lib/python3.6/dist-packages (from ptan==0.7) (0.2.6)\n",
            "Requirement already satisfied: numpy in /usr/local/lib/python3.6/dist-packages (from ptan==0.7) (1.19.4)\n",
            "Requirement already satisfied: opencv-python in /usr/local/lib/python3.6/dist-packages (from ptan==0.7) (4.1.2.30)\n",
            "Requirement already satisfied: dataclasses in /usr/local/lib/python3.6/dist-packages (from torch==1.7.0->ptan==0.7) (0.8)\n",
            "Requirement already satisfied: future in /usr/local/lib/python3.6/dist-packages (from torch==1.7.0->ptan==0.7) (0.16.0)\n",
            "Requirement already satisfied: typing-extensions in /usr/local/lib/python3.6/dist-packages (from torch==1.7.0->ptan==0.7) (3.7.4.3)\n",
            "Requirement already satisfied: pyglet<=1.5.0,>=1.4.0 in /usr/local/lib/python3.6/dist-packages (from gym->ptan==0.7) (1.5.0)\n",
            "Requirement already satisfied: scipy in /usr/local/lib/python3.6/dist-packages (from gym->ptan==0.7) (1.4.1)\n",
            "Requirement already satisfied: cloudpickle<1.7.0,>=1.2.0 in /usr/local/lib/python3.6/dist-packages (from gym->ptan==0.7) (1.3.0)\n",
            "Requirement already satisfied: six in /usr/local/lib/python3.6/dist-packages (from atari-py->ptan==0.7) (1.15.0)\n",
            "Building wheels for collected packages: ptan\n",
            "  Building wheel for ptan (setup.py) ... \u001b[?25l\u001b[?25hdone\n",
            "  Created wheel for ptan: filename=ptan-0.7-cp36-none-any.whl size=23502 sha256=ce5941676e95def5ff67b904318308c6b6dba9dae42048ac182c87891d27ed84\n",
            "  Stored in directory: /root/.cache/pip/wheels/2c/58/0c/a42dad12a5cc0e130453042707b3e2205adfb901ae35cfad75\n",
            "Successfully built ptan\n",
            "Installing collected packages: ptan\n",
            "Successfully installed ptan-0.7\n"
          ],
          "name": "stdout"
        }
      ]
    },
    {
      "cell_type": "code",
      "metadata": {
        "id": "8NlqyDtFvjwg"
      },
      "source": [
        "import gym\r\n",
        "import ptan\r\n",
        "import numpy as np\r\n",
        "import torch\r\n",
        "import torch.nn as nn\r\n",
        "import torch.nn.functional as F\r\n",
        "import torch.optim as optim\r\n",
        "import matplotlib.pyplot as plt"
      ],
      "execution_count": 5,
      "outputs": []
    },
    {
      "cell_type": "markdown",
      "metadata": {
        "id": "ZMgTaOdTwiev"
      },
      "source": [
        "## 2. Build the model"
      ]
    },
    {
      "cell_type": "code",
      "metadata": {
        "id": "RlU0HdXPxUEl"
      },
      "source": [
        "HIDDEN_SIZE = 128\r\n",
        "BATCH_SIZE = 16\r\n",
        "TGT_NET_SYNC = 10\r\n",
        "GAMMA = 0.9\r\n",
        "REPLAY_SIZE = 1000\r\n",
        "LR = 1e-3\r\n",
        "EPS_DECAY=0.99"
      ],
      "execution_count": 6,
      "outputs": []
    },
    {
      "cell_type": "code",
      "metadata": {
        "id": "wL5w0UGBxULf"
      },
      "source": [
        "class Net(nn.Module):\r\n",
        "    def __init__(self, obs_size, hidden_size, n_actions):\r\n",
        "        super(Net, self).__init__()\r\n",
        "        self.net = nn.Sequential(\r\n",
        "            nn.Linear(obs_size, hidden_size),\r\n",
        "            nn.ReLU(),\r\n",
        "            nn.Linear(hidden_size, n_actions)\r\n",
        "        )\r\n",
        "\r\n",
        "    def forward(self, x):\r\n",
        "        return self.net(x.float())"
      ],
      "execution_count": 7,
      "outputs": []
    },
    {
      "cell_type": "markdown",
      "metadata": {
        "id": "2oL5QlDtzF2j"
      },
      "source": [
        "## 3. Converting batch of transitions to numpy arrays for training"
      ]
    },
    {
      "cell_type": "code",
      "metadata": {
        "id": "iPIB1wi8zGX4"
      },
      "source": [
        "# Batch of transitions is unpacked to numpy arrays\r\n",
        "# Each item in the batch is namedtuple with fields state,action,reward,last_state\r\n",
        "# The cases where last_state is None (episode ended), are masked in loss calculation\r\n",
        "@torch.no_grad()\r\n",
        "def unpack_batch(batch, net, gamma):\r\n",
        "    states = []\r\n",
        "    actions = []\r\n",
        "    rewards = []\r\n",
        "    done_masks = []\r\n",
        "    last_states = []\r\n",
        "    for exp in batch:\r\n",
        "        states.append(exp.state)\r\n",
        "        actions.append(exp.action)\r\n",
        "        rewards.append(exp.reward)\r\n",
        "        done_masks.append(exp.last_state is None)\r\n",
        "        # If last_state is None, s' = s \r\n",
        "        if exp.last_state is None:\r\n",
        "            last_states.append(exp.state)\r\n",
        "        else:\r\n",
        "            last_states.append(exp.last_state)\r\n",
        "\r\n",
        "    states_v = torch.tensor(states)\r\n",
        "    actions_v = torch.tensor(actions)\r\n",
        "    rewards_v = torch.tensor(rewards)\r\n",
        "    last_states_v = torch.tensor(last_states)\r\n",
        "    # last_state q_vals are calculated here\r\n",
        "    last_state_q_v = net(last_states_v)\r\n",
        "    best_last_q_v = torch.max(last_state_q_v, dim=1)[0]\r\n",
        "    # The cases where last_state is None (episode ended), are masked in loss calculation\r\n",
        "    best_last_q_v[done_masks] = 0.0\r\n",
        "    return states_v, actions_v, best_last_q_v * gamma + rewards_v"
      ],
      "execution_count": 8,
      "outputs": []
    },
    {
      "cell_type": "markdown",
      "metadata": {
        "id": "sbCEJm1OzWqo"
      },
      "source": [
        "## 4. Play the game, create batches of transitions and train the network"
      ]
    },
    {
      "cell_type": "code",
      "metadata": {
        "colab": {
          "base_uri": "https://localhost:8080/"
        },
        "id": "0FEFhG3TzXCM",
        "outputId": "798d4776-8d61-4d87-e010-b36d1a7a7fbd"
      },
      "source": [
        "env = gym.make(\"CartPole-v0\")\r\n",
        "obs_size = env.observation_space.shape[0]\r\n",
        "n_actions = env.action_space.n\r\n",
        "\r\n",
        "net = Net(obs_size, HIDDEN_SIZE, n_actions)\r\n",
        "# Use separate target net to calculate targets, to improve training stability\r\n",
        "tgt_net = ptan.agent.TargetNet(net)\r\n",
        "selector = ptan.actions.ArgmaxActionSelector()\r\n",
        "# Initially epsilon=1 , which means actions are random\r\n",
        "selector = ptan.actions.EpsilonGreedyActionSelector(\r\n",
        "    epsilon=1, selector=selector)\r\n",
        "agent = ptan.agent.DQNAgent(net, selector)\r\n",
        "# Steps_count=1 , the default, is used for ExperienceSource\r\n",
        "exp_source = ptan.experience.ExperienceSourceFirstLast(\r\n",
        "    env, agent, gamma=GAMMA)\r\n",
        "# Experience buffer with uniform sampling for training\r\n",
        "buffer = ptan.experience.ExperienceReplayBuffer(\r\n",
        "    exp_source, buffer_size=REPLAY_SIZE)\r\n",
        "optimizer = optim.Adam(net.parameters(), LR)\r\n",
        "\r\n",
        "step = 0\r\n",
        "episode = 0\r\n",
        "solved = False\r\n",
        "losses=[]\r\n",
        "rewards=[]\r\n",
        "\r\n",
        "while True:\r\n",
        "    step += 1\r\n",
        "    # get a new sample from environment and insert it to buffer\r\n",
        "    buffer.populate(1)\r\n",
        "    # get total reward and total number of steps for next full episode\r\n",
        "    for reward, steps in exp_source.pop_rewards_steps():\r\n",
        "        episode += 1\r\n",
        "        rewards.append(reward)      \r\n",
        "        print(f\"{step}: episode {episode} done, reward={reward:.3f}, \\\r\n",
        "            steps={steps}, epsilon={selector.epsilon:.2f}\")\r\n",
        "        solved = reward > 150\r\n",
        "    if solved:\r\n",
        "        rewards.append(reward)\r\n",
        "        print(\"Congrats!\")\r\n",
        "        break\r\n",
        "\r\n",
        "    if len(buffer) < 2*BATCH_SIZE:\r\n",
        "        continue\r\n",
        "\r\n",
        "    batch = buffer.sample(BATCH_SIZE)\r\n",
        "    # s,a for calculating predicted qval, and Q(s',a) for calculating the target\r\n",
        "    states_v, actions_v, tgt_q_v = unpack_batch(\r\n",
        "        batch, tgt_net.target_model, GAMMA)\r\n",
        "    optimizer.zero_grad()\r\n",
        "    q_v = net(states_v)\r\n",
        "    q_v = q_v.gather(1, actions_v.unsqueeze(-1)).squeeze(-1)\r\n",
        "    loss_v = F.mse_loss(q_v, tgt_q_v)\r\n",
        "    losses.append(loss_v.item())\r\n",
        "    loss_v.backward()\r\n",
        "    optimizer.step()\r\n",
        "    selector.epsilon *= EPS_DECAY\r\n",
        "    # copy weights from training network to target network\r\n",
        "    if step % TGT_NET_SYNC == 0:\r\n",
        "        tgt_net.sync()"
      ],
      "execution_count": 13,
      "outputs": [
        {
          "output_type": "stream",
          "text": [
            "17: episode 1 done, reward=16.000, epsilon=1.00\n",
            "35: episode 2 done, reward=18.000, epsilon=0.97\n",
            "48: episode 3 done, reward=13.000, epsilon=0.85\n",
            "78: episode 4 done, reward=30.000, epsilon=0.63\n",
            "89: episode 5 done, reward=11.000, epsilon=0.56\n",
            "100: episode 6 done, reward=11.000, epsilon=0.50\n",
            "114: episode 7 done, reward=14.000, epsilon=0.44\n",
            "126: episode 8 done, reward=12.000, epsilon=0.39\n",
            "136: episode 9 done, reward=10.000, epsilon=0.35\n",
            "149: episode 10 done, reward=13.000, epsilon=0.31\n",
            "160: episode 11 done, reward=11.000, epsilon=0.28\n",
            "171: episode 12 done, reward=11.000, epsilon=0.25\n",
            "180: episode 13 done, reward=9.000, epsilon=0.23\n",
            "189: episode 14 done, reward=9.000, epsilon=0.21\n",
            "202: episode 15 done, reward=13.000, epsilon=0.18\n",
            "215: episode 16 done, reward=13.000, epsilon=0.16\n",
            "223: episode 17 done, reward=8.000, epsilon=0.15\n",
            "233: episode 18 done, reward=10.000, epsilon=0.13\n",
            "244: episode 19 done, reward=11.000, epsilon=0.12\n",
            "253: episode 20 done, reward=9.000, epsilon=0.11\n",
            "263: episode 21 done, reward=10.000, epsilon=0.10\n",
            "274: episode 22 done, reward=11.000, epsilon=0.09\n",
            "284: episode 23 done, reward=10.000, epsilon=0.08\n",
            "295: episode 24 done, reward=11.000, epsilon=0.07\n",
            "305: episode 25 done, reward=10.000, epsilon=0.06\n",
            "316: episode 26 done, reward=11.000, epsilon=0.06\n",
            "326: episode 27 done, reward=10.000, epsilon=0.05\n",
            "336: episode 28 done, reward=10.000, epsilon=0.05\n",
            "347: episode 29 done, reward=11.000, epsilon=0.04\n",
            "357: episode 30 done, reward=10.000, epsilon=0.04\n",
            "366: episode 31 done, reward=9.000, epsilon=0.03\n",
            "378: episode 32 done, reward=12.000, epsilon=0.03\n",
            "388: episode 33 done, reward=10.000, epsilon=0.03\n",
            "399: episode 34 done, reward=11.000, epsilon=0.03\n",
            "410: episode 35 done, reward=11.000, epsilon=0.02\n",
            "420: episode 36 done, reward=10.000, epsilon=0.02\n",
            "430: episode 37 done, reward=10.000, epsilon=0.02\n",
            "443: episode 38 done, reward=13.000, epsilon=0.02\n",
            "456: episode 39 done, reward=13.000, epsilon=0.01\n",
            "467: episode 40 done, reward=11.000, epsilon=0.01\n",
            "477: episode 41 done, reward=10.000, epsilon=0.01\n",
            "492: episode 42 done, reward=15.000, epsilon=0.01\n",
            "505: episode 43 done, reward=13.000, epsilon=0.01\n",
            "518: episode 44 done, reward=13.000, epsilon=0.01\n",
            "539: episode 45 done, reward=21.000, epsilon=0.01\n",
            "560: episode 46 done, reward=21.000, epsilon=0.00\n",
            "713: episode 47 done, reward=153.000, epsilon=0.00\n",
            "Congrats!\n"
          ],
          "name": "stdout"
        }
      ]
    },
    {
      "cell_type": "code",
      "metadata": {
        "colab": {
          "base_uri": "https://localhost:8080/",
          "height": 607
        },
        "id": "MW1UEvuI0YGd",
        "outputId": "136d13f2-af37-4555-f962-5cb77c097b93"
      },
      "source": [
        "plt.figure(figsize=(10, 10))\r\n",
        "charts=[losses,rewards]\r\n",
        "titles=['Loss','Reward']\r\n",
        "for i, (chart, title) in enumerate(zip(charts,titles)):\r\n",
        "  ax=plt.subplot(2,1,i+1)\r\n",
        "  plt.plot(chart)\r\n",
        "  plt.title(title)"
      ],
      "execution_count": 14,
      "outputs": [
        {
          "output_type": "display_data",
          "data": {
            "image/png": "[encoded data removed]",
            "text/plain": [
              "<Figure size 720x720 with 2 Axes>"
            ]
          },
          "metadata": {
            "tags": [],
            "needs_background": "light"
          }
        }
      ]
    }
  ]
}