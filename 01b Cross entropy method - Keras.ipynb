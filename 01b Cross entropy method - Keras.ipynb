{
  "nbformat": 4,
  "nbformat_minor": 0,
  "metadata": {
    "colab": {
      "name": "01 b Cross-entropy method, CartPole.ipynb",
      "provenance": [],
      "collapsed_sections": []
    },
    "kernelspec": {
      "display_name": "Python 3",
      "name": "python3"
    }
  },
  "cells": [
    {
      "cell_type": "markdown",
      "metadata": {
        "id": "6tVP2bJMLiQL"
      },
      "source": [
        "# Cross-entropy method on CartPole (Keras)"
      ]
    },
    {
      "cell_type": "markdown",
      "metadata": {
        "id": "l4-dXHDwLgnY"
      },
      "source": [
        "Here I modify the \"01a Cross-entropy method , Cartpole (PyTorch)\" notebook, so that I change it from PyTorch to Keras.\r\n",
        "\r\n",
        "Cross-entropy method is applied for CartPole environment from OpenAI gym, with Keras. Cross-entropy method is :\r\n",
        "- policy-based method\r\n",
        "- on-policy method\r\n",
        "\r\n",
        "The PyTorch code was  based on the book: Deep Reinforcement Learning Hands-On, 2nd edition, from Packt publishing, by Maxim Lapan. "
      ]
    },
    {
      "cell_type": "markdown",
      "metadata": {
        "id": "6X7FIqfbMzGI"
      },
      "source": [
        "## 1. Import packages"
      ]
    },
    {
      "cell_type": "code",
      "metadata": {
        "id": "trt9Lgp0MTbG"
      },
      "source": [
        "import gym\r\n",
        "from collections import namedtuple\r\n",
        "import numpy as np\r\n",
        "import tensorflow as tf\r\n",
        "from tensorflow import keras\r\n",
        "from tensorflow.keras import layers\r\n",
        "import matplotlib.pyplot as plt"
      ],
      "execution_count": 1,
      "outputs": []
    },
    {
      "cell_type": "markdown",
      "metadata": {
        "id": "6JIGl07cOHrf"
      },
      "source": [
        "## 2. Build the model"
      ]
    },
    {
      "cell_type": "code",
      "metadata": {
        "id": "GN6DKOK0Nr3e"
      },
      "source": [
        "HIDDEN_SIZE = 128\r\n",
        "BATCH_SIZE = 16\r\n",
        "PERCENTILE = 70"
      ],
      "execution_count": 2,
      "outputs": []
    },
    {
      "cell_type": "code",
      "metadata": {
        "id": "lbCuZvkmwyzY"
      },
      "source": [
        "class Net(tf.keras.Model):\r\n",
        "\r\n",
        "  def __init__(self, hidden_size, n_actions):\r\n",
        "    super(Net, self).__init__()\r\n",
        "    self.dense1=layers.Dense(hidden_size,activation=\"relu\")                             \r\n",
        "    self.dense2=layers.Dense(n_actions, activation='softmax')\r\n",
        "\r\n",
        "  def call(self,inputs):\r\n",
        "    x=self.dense1(inputs)\r\n",
        "    return self.dense2(x)"
      ],
      "execution_count": 3,
      "outputs": []
    },
    {
      "cell_type": "markdown",
      "metadata": {
        "id": "zOllk0m2R7S9"
      },
      "source": [
        "## 3. Play the Cartpole and create batches with Episodes"
      ]
    },
    {
      "cell_type": "code",
      "metadata": {
        "id": "DDxqWDeDSAwc"
      },
      "source": [
        "Episode = namedtuple('Episode', field_names=['reward', 'steps'])\r\n",
        "EpisodeStep = namedtuple('EpisodeStep', field_names=['observation', 'action'])"
      ],
      "execution_count": 4,
      "outputs": []
    },
    {
      "cell_type": "code",
      "metadata": {
        "id": "0N8vliHBO01-"
      },
      "source": [
        "def iterate_batches(env, net, batch_size):\r\n",
        "    batch = []\r\n",
        "    episode_reward = 0.0\r\n",
        "    episode_steps = []\r\n",
        "    obs = env.reset()\r\n",
        "    while True:\r\n",
        "        obs_v=np.expand_dims(obs,0)\r\n",
        "        act_probs_v = net(obs_v)\r\n",
        "        act_probs=act_probs_v.numpy()[0]\r\n",
        "        action = np.random.choice(len(act_probs), p=act_probs)\r\n",
        "        next_obs, reward, is_done, _ = env.step(action)\r\n",
        "        episode_reward += reward\r\n",
        "        step = EpisodeStep(observation=obs, action=action)\r\n",
        "        episode_steps.append(step)\r\n",
        "        if is_done:\r\n",
        "            e = Episode(reward=episode_reward, steps=episode_steps)\r\n",
        "            batch.append(e)\r\n",
        "            episode_reward = 0.0\r\n",
        "            episode_steps = []\r\n",
        "            next_obs = env.reset()\r\n",
        "            if len(batch) == batch_size:\r\n",
        "                yield batch\r\n",
        "                batch = []\r\n",
        "        obs = next_obs"
      ],
      "execution_count": 5,
      "outputs": []
    },
    {
      "cell_type": "markdown",
      "metadata": {
        "id": "IJxksUaQUizf"
      },
      "source": [
        "## 4. Select only the episodes with best rewards for training"
      ]
    },
    {
      "cell_type": "code",
      "metadata": {
        "id": "1OwwnkGNUOwE"
      },
      "source": [
        "# Remove those episodes from the batch where reward is not within the best percentile\r\n",
        "def filter_batch(batch, percentile):\r\n",
        "    rewards = list(map(lambda s: s.reward, batch))\r\n",
        "    reward_bound = np.percentile(rewards, percentile)\r\n",
        "    reward_mean = float(np.mean(rewards))\r\n",
        "\r\n",
        "    train_obs = []\r\n",
        "    train_act = []\r\n",
        "    for reward, steps in batch:\r\n",
        "        if reward < reward_bound:\r\n",
        "            continue\r\n",
        "        train_obs.extend(map(lambda step: step.observation, steps))\r\n",
        "        train_act.extend(map(lambda step: step.action, steps))\r\n",
        "\r\n",
        "    train_obs_v = tf.constant(train_obs, dtype=tf.float32)\r\n",
        "    #train_act_v = tf.constant(train_act, dtype=tf.int32)\r\n",
        "    train_act_v=tf.one_hot(train_act, n_actions)\r\n",
        "    return train_obs_v, train_act_v, reward_bound, reward_mean\r\n"
      ],
      "execution_count": 6,
      "outputs": []
    },
    {
      "cell_type": "markdown",
      "metadata": {
        "id": "X4TkVv3dgheM"
      },
      "source": [
        "## 5. Play the game to create batch of transitions and train the network with the best episodes"
      ]
    },
    {
      "cell_type": "code",
      "metadata": {
        "colab": {
          "base_uri": "https://localhost:8080/"
        },
        "id": "69pMwN06Z9sW",
        "outputId": "68240cd3-4fcd-46e8-b881-cea686f3ef2f"
      },
      "source": [
        "env = gym.make(\"CartPole-v0\")\r\n",
        "obs_size = env.observation_space.shape[0]\r\n",
        "n_actions = env.action_space.n\r\n",
        "\r\n",
        "net = Net(HIDDEN_SIZE, n_actions)\r\n",
        "loss_fn = keras.losses.CategoricalCrossentropy()\r\n",
        "optimizer = keras.optimizers.Adam()\r\n",
        "\r\n",
        "net.compile(optimizer=optimizer,\r\n",
        "            loss=loss_fn,\r\n",
        "            metrics=['accuracy'])\r\n",
        "\r\n",
        "reward_means=[]\r\n",
        "rw_boundaries=[]\r\n",
        "losses=[]\r\n",
        "\r\n",
        "for iter_no, batch in enumerate(iterate_batches(env, net, BATCH_SIZE)):\r\n",
        "    obs_v, acts_v, reward_b, reward_m = filter_batch(batch, PERCENTILE)\r\n",
        "    history=net.fit(obs_v, acts_v, epochs=1,verbose=0)\r\n",
        "    if reward_m > 199:\r\n",
        "        print(\"Solved!\")\r\n",
        "        break\r\n",
        "    loss=history.history['loss'][-1]\r\n",
        "    print(f\"{iter_no}: loss={loss:.4f}, reward_mean={reward_m:.2f}, rw_bound={reward_b:.2f}\")\r\n",
        "    reward_means.append(reward_m)\r\n",
        "    rw_boundaries.append(reward_b)\r\n",
        "    losses.append(loss)"
      ],
      "execution_count": 7,
      "outputs": [
        {
          "output_type": "stream",
          "text": [
            "0: loss=0.6850, reward_mean=23.44, rw_bound=30.00\n",
            "1: loss=0.6900, reward_mean=21.81, rw_bound=24.50\n",
            "2: loss=0.6793, reward_mean=21.50, rw_bound=21.50\n",
            "3: loss=0.6803, reward_mean=28.19, rw_bound=32.00\n",
            "4: loss=0.6753, reward_mean=25.56, rw_bound=32.00\n",
            "5: loss=0.6832, reward_mean=20.88, rw_bound=23.50\n",
            "6: loss=0.6620, reward_mean=34.50, rw_bound=39.00\n",
            "7: loss=0.6585, reward_mean=38.31, rw_bound=43.00\n",
            "8: loss=0.6663, reward_mean=36.06, rw_bound=43.50\n",
            "9: loss=0.6461, reward_mean=35.25, rw_bound=38.00\n",
            "10: loss=0.6487, reward_mean=39.75, rw_bound=50.50\n",
            "11: loss=0.6464, reward_mean=36.44, rw_bound=34.00\n",
            "12: loss=0.6419, reward_mean=45.44, rw_bound=47.50\n",
            "13: loss=0.6512, reward_mean=44.31, rw_bound=48.50\n",
            "14: loss=0.6489, reward_mean=54.56, rw_bound=61.50\n",
            "15: loss=0.6341, reward_mean=54.19, rw_bound=66.50\n",
            "16: loss=0.6311, reward_mean=54.31, rw_bound=59.50\n",
            "17: loss=0.6286, reward_mean=70.38, rw_bound=86.50\n",
            "18: loss=0.6279, reward_mean=48.50, rw_bound=56.50\n",
            "19: loss=0.6238, reward_mean=67.31, rw_bound=69.50\n",
            "20: loss=0.6335, reward_mean=68.44, rw_bound=69.50\n",
            "21: loss=0.6314, reward_mean=73.19, rw_bound=93.00\n",
            "22: loss=0.6170, reward_mean=69.56, rw_bound=69.50\n",
            "23: loss=0.6221, reward_mean=81.50, rw_bound=90.00\n",
            "24: loss=0.6139, reward_mean=92.69, rw_bound=116.00\n",
            "25: loss=0.6139, reward_mean=102.69, rw_bound=114.00\n",
            "26: loss=0.6155, reward_mean=88.00, rw_bound=105.00\n",
            "27: loss=0.6168, reward_mean=112.69, rw_bound=160.00\n",
            "28: loss=0.6114, reward_mean=124.12, rw_bound=151.50\n",
            "29: loss=0.6036, reward_mean=138.31, rw_bound=170.00\n",
            "30: loss=0.6083, reward_mean=139.31, rw_bound=188.50\n",
            "31: loss=0.6033, reward_mean=129.75, rw_bound=144.00\n",
            "32: loss=0.5971, reward_mean=153.88, rw_bound=181.00\n",
            "33: loss=0.5892, reward_mean=170.62, rw_bound=200.00\n",
            "34: loss=0.5961, reward_mean=159.75, rw_bound=198.00\n",
            "35: loss=0.5880, reward_mean=158.62, rw_bound=200.00\n",
            "36: loss=0.5913, reward_mean=171.00, rw_bound=200.00\n",
            "37: loss=0.5845, reward_mean=181.62, rw_bound=200.00\n",
            "38: loss=0.5918, reward_mean=192.88, rw_bound=200.00\n",
            "39: loss=0.5849, reward_mean=180.06, rw_bound=200.00\n",
            "40: loss=0.5953, reward_mean=184.25, rw_bound=200.00\n",
            "41: loss=0.5955, reward_mean=174.00, rw_bound=200.00\n",
            "42: loss=0.5894, reward_mean=190.12, rw_bound=200.00\n",
            "43: loss=0.5787, reward_mean=191.31, rw_bound=200.00\n",
            "44: loss=0.5796, reward_mean=188.38, rw_bound=200.00\n",
            "Solved!\n"
          ],
          "name": "stdout"
        }
      ]
    },
    {
      "cell_type": "code",
      "metadata": {
        "colab": {
          "base_uri": "https://localhost:8080/",
          "height": 607
        },
        "id": "3gF-Lqp1gk3I",
        "outputId": "3589c189-171c-42f9-fe86-f6a535f37dc2"
      },
      "source": [
        "plt.figure(figsize=(10, 10))\r\n",
        "charts=[losses,reward_means,rw_boundaries]\r\n",
        "titles=['Loss','Reward mean','Reward boundary']\r\n",
        "for i, (chart, title) in enumerate(zip(charts,titles)):\r\n",
        "  ax=plt.subplot(3,1,i+1)\r\n",
        "  plt.plot(chart)\r\n",
        "  plt.title(title)"
      ],
      "execution_count": 10,
      "outputs": [
        {
          "output_type": "display_data",
          "data": {
            "image/png": "[encoded data removed]",
            "text/plain": [
              "<Figure size 720x720 with 3 Axes>"
            ]
          },
          "metadata": {
            "tags": [],
            "needs_background": "light"
          }
        }
      ]
    }
  ]
}