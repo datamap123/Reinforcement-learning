{
  "nbformat": 4,
  "nbformat_minor": 0,
  "metadata": {
    "colab": {
      "name": "01 a Cross-entropy method, CartPole.ipynb",
      "provenance": [],
      "collapsed_sections": []
    },
    "kernelspec": {
      "name": "python3",
      "display_name": "Python 3"
    }
  },
  "cells": [
    {
      "cell_type": "markdown",
      "metadata": {
        "id": "6tVP2bJMLiQL"
      },
      "source": [
        "# Cross-entropy method on CartPole (PyTorch)"
      ]
    },
    {
      "cell_type": "markdown",
      "metadata": {
        "id": "l4-dXHDwLgnY"
      },
      "source": [
        "In this notebook a cross-entropy method is applied for CartPole environment from OpenAI gym, with PyTorch. Cross-entropy method is :\r\n",
        "- policy-based method\r\n",
        "- on-policy method\r\n",
        "\r\n",
        "The code is  based on the book: Deep Reinforcement Learning Hands-On, 2nd edition, from Packt publishing, by Maxim Lapan. The original code is taken from the GitHub pages of the book, and perhaps modified in some places."
      ]
    },
    {
      "cell_type": "markdown",
      "metadata": {
        "id": "6X7FIqfbMzGI"
      },
      "source": [
        "## 1. Import packages"
      ]
    },
    {
      "cell_type": "code",
      "metadata": {
        "id": "trt9Lgp0MTbG"
      },
      "source": [
        "from collections import namedtuple\r\n",
        "import numpy as np\r\n",
        "import torch\r\n",
        "import torch.nn as nn\r\n",
        "import torch.optim as optim\r\n",
        "import matplotlib.pyplot as plt\r\n"
      ],
      "execution_count": 17,
      "outputs": []
    },
    {
      "cell_type": "markdown",
      "metadata": {
        "id": "6JIGl07cOHrf"
      },
      "source": [
        "## 2. Build the model"
      ]
    },
    {
      "cell_type": "code",
      "metadata": {
        "id": "GN6DKOK0Nr3e"
      },
      "source": [
        "HIDDEN_SIZE = 128\r\n",
        "BATCH_SIZE = 16\r\n",
        "PERCENTILE = 70"
      ],
      "execution_count": 4,
      "outputs": []
    },
    {
      "cell_type": "code",
      "metadata": {
        "id": "Ow-HUgtUO0qB"
      },
      "source": [
        "class Net(nn.Module):\r\n",
        "  def __init__(self, obs_size, hidden_size, n_actions):\r\n",
        "    super(Net,self).__init__()\r\n",
        "    self.net=nn.Sequential(\r\n",
        "        nn.Linear(obs_size,hidden_size),\r\n",
        "        nn.ReLU(),\r\n",
        "        nn.Linear(hidden_size,n_actions)\r\n",
        "    )\r\n",
        "  def forward(self,x):\r\n",
        "    return self.net(x)"
      ],
      "execution_count": 5,
      "outputs": []
    },
    {
      "cell_type": "markdown",
      "metadata": {
        "id": "zOllk0m2R7S9"
      },
      "source": [
        "## 3. Play the Cartpole and create batches with Episodes"
      ]
    },
    {
      "cell_type": "code",
      "metadata": {
        "id": "DDxqWDeDSAwc"
      },
      "source": [
        "Episode = namedtuple('Episode', field_names=['reward', 'steps'])\r\n",
        "EpisodeStep = namedtuple('EpisodeStep', field_names=['observation', 'action'])"
      ],
      "execution_count": 6,
      "outputs": []
    },
    {
      "cell_type": "code",
      "metadata": {
        "id": "0N8vliHBO01-"
      },
      "source": [
        "def iterate_batches(env, net, batch_size):\r\n",
        "    batch = []\r\n",
        "    episode_reward = 0.0\r\n",
        "    episode_steps = []\r\n",
        "    obs = env.reset()\r\n",
        "    sm = nn.Softmax(dim=1)\r\n",
        "    while True:\r\n",
        "        obs_v = torch.FloatTensor([obs])\r\n",
        "        act_probs_v = sm(net(obs_v))\r\n",
        "        act_probs = act_probs_v.data.numpy()[0]\r\n",
        "        action = np.random.choice(len(act_probs), p=act_probs)\r\n",
        "        next_obs, reward, is_done, _ = env.step(action)\r\n",
        "        episode_reward += reward\r\n",
        "        step = EpisodeStep(observation=obs, action=action)\r\n",
        "        episode_steps.append(step)\r\n",
        "        if is_done:\r\n",
        "            e = Episode(reward=episode_reward, steps=episode_steps)\r\n",
        "            batch.append(e)\r\n",
        "            episode_reward = 0.0\r\n",
        "            episode_steps = []\r\n",
        "            next_obs = env.reset()\r\n",
        "            if len(batch) == batch_size:\r\n",
        "                yield batch\r\n",
        "                batch = []\r\n",
        "        obs = next_obs"
      ],
      "execution_count": 14,
      "outputs": []
    },
    {
      "cell_type": "markdown",
      "metadata": {
        "id": "IJxksUaQUizf"
      },
      "source": [
        "## 4. Select only the episodes with best rewards for training"
      ]
    },
    {
      "cell_type": "code",
      "metadata": {
        "id": "1OwwnkGNUOwE"
      },
      "source": [
        "# Remove those episodes from the batch where reward is not within the best percentile\r\n",
        "def filter_batch(batch, percentile):\r\n",
        "    rewards = list(map(lambda s: s.reward, batch))\r\n",
        "    reward_bound = np.percentile(rewards, percentile)\r\n",
        "    reward_mean = float(np.mean(rewards))\r\n",
        "\r\n",
        "    train_obs = []\r\n",
        "    train_act = []\r\n",
        "    for reward, steps in batch:\r\n",
        "        if reward < reward_bound:\r\n",
        "            continue\r\n",
        "        train_obs.extend(map(lambda step: step.observation, steps))\r\n",
        "        train_act.extend(map(lambda step: step.action, steps))\r\n",
        "\r\n",
        "    train_obs_v = torch.FloatTensor(train_obs)\r\n",
        "    train_act_v = torch.LongTensor(train_act)\r\n",
        "    return train_obs_v, train_act_v, reward_bound, reward_mean\r\n"
      ],
      "execution_count": 15,
      "outputs": []
    },
    {
      "cell_type": "markdown",
      "metadata": {
        "id": "YL-pp2KwVJfN"
      },
      "source": [
        "## 5. Play the game to create batch of transitions and train the network with the best episodes"
      ]
    },
    {
      "cell_type": "code",
      "metadata": {
        "colab": {
          "base_uri": "https://localhost:8080/"
        },
        "id": "fJw6SCLoVLGR",
        "outputId": "fd88b17d-1799-4ed3-8d4b-cd4ae06a43cc"
      },
      "source": [
        "env = gym.make(\"CartPole-v0\")\r\n",
        "# env = gym.wrappers.Monitor(env, directory=\"mon\", force=True)\r\n",
        "obs_size = env.observation_space.shape[0]\r\n",
        "n_actions = env.action_space.n\r\n",
        "\r\n",
        "net = Net(obs_size, HIDDEN_SIZE, n_actions)\r\n",
        "objective = nn.CrossEntropyLoss()\r\n",
        "optimizer = optim.Adam(params=net.parameters(), lr=0.01)\r\n",
        "\r\n",
        "losses=[]\r\n",
        "reward_means=[]\r\n",
        "rw_boundaries=[]\r\n",
        "\r\n",
        "for iter_no, batch in enumerate(iterate_batches(\r\n",
        "        env, net, BATCH_SIZE)):\r\n",
        "    obs_v, acts_v, reward_b, reward_m = \\\r\n",
        "        filter_batch(batch, PERCENTILE)\r\n",
        "    optimizer.zero_grad()\r\n",
        "    action_scores_v = net(obs_v)\r\n",
        "    loss_v = objective(action_scores_v, acts_v)\r\n",
        "    loss_v.backward()\r\n",
        "    optimizer.step()\r\n",
        "    losses.append(loss_v.item())\r\n",
        "    reward_means.append(reward_m)\r\n",
        "    rw_boundaries.append(reward_b)\r\n",
        "    print(f\"{iter_no}: loss={loss_v.item()}, reward_mean={reward_m}, rw_bound={reward_b}\")\r\n",
        "    if reward_m > 199:\r\n",
        "        print(\"Solved!\")\r\n",
        "        break\r\n"
      ],
      "execution_count": 16,
      "outputs": [
        {
          "output_type": "stream",
          "text": [
            "0: loss=0.6870428323745728, reward_mean=20.3125, rw_bound=19.5\n",
            "1: loss=0.6767308712005615, reward_mean=19.5625, rw_bound=23.0\n",
            "2: loss=0.6791678071022034, reward_mean=18.1875, rw_bound=19.5\n",
            "3: loss=0.6694231033325195, reward_mean=20.25, rw_bound=17.5\n",
            "4: loss=0.690920889377594, reward_mean=23.375, rw_bound=25.0\n",
            "5: loss=0.6825956106185913, reward_mean=25.1875, rw_bound=25.0\n",
            "6: loss=0.6862876415252686, reward_mean=32.4375, rw_bound=39.5\n",
            "7: loss=0.6651785969734192, reward_mean=30.6875, rw_bound=33.5\n",
            "8: loss=0.6628185510635376, reward_mean=36.5625, rw_bound=44.0\n",
            "9: loss=0.6706629991531372, reward_mean=31.75, rw_bound=40.0\n",
            "10: loss=0.6510463356971741, reward_mean=38.375, rw_bound=45.0\n",
            "11: loss=0.6446564793586731, reward_mean=42.625, rw_bound=55.5\n",
            "12: loss=0.6283707022666931, reward_mean=31.5, rw_bound=37.0\n",
            "13: loss=0.6391638517379761, reward_mean=43.25, rw_bound=50.0\n",
            "14: loss=0.6336162686347961, reward_mean=48.3125, rw_bound=55.0\n",
            "15: loss=0.6162010431289673, reward_mean=69.3125, rw_bound=76.0\n",
            "16: loss=0.6266739368438721, reward_mean=66.625, rw_bound=74.0\n",
            "17: loss=0.6229982972145081, reward_mean=72.25, rw_bound=74.0\n",
            "18: loss=0.616366982460022, reward_mean=77.5, rw_bound=85.0\n",
            "19: loss=0.6058069467544556, reward_mean=85.25, rw_bound=94.5\n",
            "20: loss=0.6131654977798462, reward_mean=66.875, rw_bound=70.5\n",
            "21: loss=0.6024366617202759, reward_mean=86.5625, rw_bound=95.0\n",
            "22: loss=0.608189046382904, reward_mean=91.1875, rw_bound=98.5\n",
            "23: loss=0.5902831554412842, reward_mean=100.25, rw_bound=112.5\n",
            "24: loss=0.5932501554489136, reward_mean=103.125, rw_bound=112.5\n",
            "25: loss=0.5839080214500427, reward_mean=119.3125, rw_bound=143.0\n",
            "26: loss=0.5858544707298279, reward_mean=118.75, rw_bound=156.0\n",
            "27: loss=0.5917646288871765, reward_mean=119.3125, rw_bound=140.5\n",
            "28: loss=0.5979438424110413, reward_mean=123.8125, rw_bound=147.5\n",
            "29: loss=0.5741516351699829, reward_mean=152.3125, rw_bound=197.0\n",
            "30: loss=0.5792797803878784, reward_mean=181.6875, rw_bound=200.0\n",
            "31: loss=0.5794745683670044, reward_mean=189.6875, rw_bound=200.0\n",
            "32: loss=0.5775765180587769, reward_mean=197.125, rw_bound=200.0\n",
            "33: loss=0.5730307102203369, reward_mean=181.0, rw_bound=200.0\n",
            "34: loss=0.5682211518287659, reward_mean=189.375, rw_bound=200.0\n",
            "35: loss=0.5635628700256348, reward_mean=190.9375, rw_bound=200.0\n",
            "36: loss=0.5803865790367126, reward_mean=181.25, rw_bound=200.0\n",
            "37: loss=0.573805034160614, reward_mean=192.125, rw_bound=200.0\n",
            "38: loss=0.5623461604118347, reward_mean=174.375, rw_bound=200.0\n",
            "39: loss=0.5643749833106995, reward_mean=195.9375, rw_bound=200.0\n",
            "40: loss=0.565975546836853, reward_mean=192.0625, rw_bound=200.0\n",
            "41: loss=0.5715597867965698, reward_mean=195.25, rw_bound=200.0\n",
            "42: loss=0.5598959922790527, reward_mean=188.8125, rw_bound=200.0\n",
            "43: loss=0.5526065826416016, reward_mean=173.3125, rw_bound=200.0\n",
            "44: loss=0.5561660528182983, reward_mean=199.625, rw_bound=200.0\n",
            "Solved!\n"
          ],
          "name": "stdout"
        }
      ]
    },
    {
      "cell_type": "code",
      "metadata": {
        "colab": {
          "base_uri": "https://localhost:8080/",
          "height": 607
        },
        "id": "3gF-Lqp1gk3I",
        "outputId": "f10bad78-dc5f-4785-c32e-ac4adda5ec66"
      },
      "source": [
        "plt.figure(figsize=(10, 10))\r\n",
        "charts=[losses,reward_means,rw_boundaries]\r\n",
        "titles=['Loss','Reward mean','Reward boundary']\r\n",
        "for i, (chart, title) in enumerate(zip(charts,titles)):\r\n",
        "  ax=plt.subplot(3,1,i+1)\r\n",
        "  plt.plot(chart)\r\n",
        "  plt.title(title)"
      ],
      "execution_count": 24,
      "outputs": [
        {
          "output_type": "display_data",
          "data": {
            "image/png": "[encoded data removed]",
            "text/plain": [
              "<Figure size 720x720 with 3 Axes>"
            ]
          },
          "metadata": {
            "tags": [],
            "needs_background": "light"
          }
        }
      ]
    }
  ]
}